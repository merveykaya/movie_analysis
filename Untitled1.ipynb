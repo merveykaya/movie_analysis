{
 "cells": [
  {
   "cell_type": "code",
   "execution_count": 11,
   "id": "e0631751",
   "metadata": {},
   "outputs": [
    {
     "name": "stdout",
     "output_type": "stream",
     "text": [
      "fatal: destination path 'Find_LinkedIn_jobs' already exists and is not an empty directory.\r\n"
     ]
    }
   ],
   "source": [
    "# clone the repo\n",
    "!git clone https://github.com/KungPaoChick/Find_LinkedIn_jobs.git\n",
    "\n",
    "# change the working directory to Find_LinkedIn_jobs\n",
    "!cd Find_LinkedIn_jobs/\n",
    "\n",
    "# install the requirements\n",
    "!pip freeze > requirements.txt"
   ]
  },
  {
   "cell_type": "code",
   "execution_count": 15,
   "id": "16031b76",
   "metadata": {
    "scrolled": false
   },
   "outputs": [
    {
     "ename": "SyntaxError",
     "evalue": "invalid syntax (2868301802.py, line 2)",
     "output_type": "error",
     "traceback": [
      "\u001b[0;36m  File \u001b[0;32m\"/var/folders/k4/ss07k4095qddhthn_dw8b3jr0000gn/T/ipykernel_2272/2868301802.py\"\u001b[0;36m, line \u001b[0;32m2\u001b[0m\n\u001b[0;31m    usage: search_jobs.py [-h] [-p PLACES [PLACES ...]] [-j jobfunction [jobfunction ...]] [-jp job place]\u001b[0m\n\u001b[0m                                   ^\u001b[0m\n\u001b[0;31mSyntaxError\u001b[0m\u001b[0;31m:\u001b[0m invalid syntax\n"
     ]
    }
   ],
   "source": [
    "!python search_jobs.py --help\n",
    "usage: search_jobs.py [-h] [-p PLACES [PLACES ...]] [-j jobfunction [jobfunction ...]] [-jp job place]\n",
    "\n",
    "Find Nearby or Faraway Jobs\n",
    "\n",
    "optional arguments:\n",
    "  -h, --help            show this help message and exit\n",
    "  -p PLACES [PLACES ...], --place PLACES [PLACES ...]\n",
    "                        Enter country/city/state. One or more places to look jobs from.\n",
    "  -j jobfunction [jobfunction ...], --jobfunction jobfunction [jobfunction ...]\n",
    "                        Searches Job Specification in your area. (e.g software-engineer)\n",
    "  -jp job place, --jobplace job place\n",
    "                        Searches The Specified Job in the Specified Place. (e.g teacher iowa)"
   ]
  },
  {
   "cell_type": "code",
   "execution_count": 14,
   "id": "49379226",
   "metadata": {
    "collapsed": true
   },
   "outputs": [
    {
     "name": "stdout",
     "output_type": "stream",
     "text": [
      "python: can't open file '/Users/merveykaya/Documents/projects/movies/search_jobs.py': [Errno 2] No such file or directory\r\n"
     ]
    }
   ],
   "source": [
    "!python search_jobs.py -j data analyst"
   ]
  },
  {
   "cell_type": "code",
   "execution_count": null,
   "id": "38d6d24d",
   "metadata": {},
   "outputs": [],
   "source": []
  }
 ],
 "metadata": {
  "kernelspec": {
   "display_name": "Python 3 (ipykernel)",
   "language": "python",
   "name": "python3"
  },
  "language_info": {
   "codemirror_mode": {
    "name": "ipython",
    "version": 3
   },
   "file_extension": ".py",
   "mimetype": "text/x-python",
   "name": "python",
   "nbconvert_exporter": "python",
   "pygments_lexer": "ipython3",
   "version": "3.9.7"
  },
  "toc": {
   "base_numbering": 1,
   "nav_menu": {},
   "number_sections": true,
   "sideBar": true,
   "skip_h1_title": false,
   "title_cell": "Table of Contents",
   "title_sidebar": "Contents",
   "toc_cell": false,
   "toc_position": {},
   "toc_section_display": true,
   "toc_window_display": false
  }
 },
 "nbformat": 4,
 "nbformat_minor": 5
}
